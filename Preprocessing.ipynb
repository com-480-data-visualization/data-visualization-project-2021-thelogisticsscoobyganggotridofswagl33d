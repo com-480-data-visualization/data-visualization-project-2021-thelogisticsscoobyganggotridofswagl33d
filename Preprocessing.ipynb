{
 "cells": [
  {
   "cell_type": "code",
   "execution_count": 1,
   "metadata": {},
   "outputs": [],
   "source": [
    "import re\n",
    "import chess\n",
    "import json\n",
    "import pandas as pd\n",
    "import numpy as np\n",
    "\n",
    "from tqdm import tqdm\n",
    "from itertools import chain, groupby"
   ]
  },
  {
   "cell_type": "code",
   "execution_count": 2,
   "metadata": {},
   "outputs": [],
   "source": [
    "board = {\n",
    "'wr-L': 'a1', 'wn-L': 'b1', 'wb-L': 'c1', 'wq':   'd1', 'wk':   'e1', 'wb-R': 'f1', 'wn-R': 'g1', 'wr-R': 'h1',\n",
    "'wp-a': 'a2', 'wp-b': 'b2', 'wp-c': 'c2', 'wp-d': 'd2', 'wp-e': 'e2', 'wp-f': 'f2', 'wp-g': 'g2', 'wp-h': 'h2',\n",
    "'bp-a': 'a7', 'bp-b': 'b7', 'bp-c': 'c7', 'bp-d': 'd7', 'bp-e': 'e7', 'bp-f': 'f7', 'bp-g': 'g7', 'bp-h': 'h7',\n",
    "'br-L': 'a8', 'bn-L': 'b8', 'bb-L': 'c8', 'bq':   'd8', 'bk':   'e8', 'bb-R': 'f8', 'bn-R': 'g8', 'br-R': 'h8'\n",
    "}"
   ]
  },
  {
   "cell_type": "code",
   "execution_count": 3,
   "metadata": {},
   "outputs": [],
   "source": [
    "def stringify(board):\n",
    "    s = [['.' for col in range(8)] for row in range(8)]\n",
    "    for piece, pos in board.items():\n",
    "        row = int(pos[1]) - 1\n",
    "        col = ord(pos[0]) - ord('a')\n",
    "        c = piece[1]\n",
    "        if piece[0] == 'w':\n",
    "            c = c.upper()\n",
    "        s[row][col] = c\n",
    "    return '\\n'.join(' '.join(l) for l in s[::-1])"
   ]
  },
  {
   "cell_type": "code",
   "execution_count": 4,
   "metadata": {},
   "outputs": [],
   "source": [
    "def get_piece(board, pos):\n",
    "    for piece, p in board.items():\n",
    "        if p == pos:\n",
    "            return piece\n",
    "        \n",
    "def get_differences(s1, s2):\n",
    "    state1 = ''.join(s1.split())\n",
    "    state2 = ''.join(s2.split())\n",
    "    pos = []\n",
    "    diffs = []\n",
    "    for i in range(8):\n",
    "        row = 8 - i\n",
    "        for j, col in enumerate(['a', 'b', 'c', 'd', 'e', 'f', 'g', 'h']):\n",
    "            if state1[i*8 + j] != state2[i*8 + j]:\n",
    "                pos.append(f'{col}{row}')\n",
    "                diffs.append([state1[i*8+j], state2[i*8+j]])\n",
    "    return pos, diffs\n",
    "\n",
    "def extract_states_transitions(moves):\n",
    "    chessboard = board.copy()\n",
    "    engine = chess.Board()\n",
    "    \n",
    "    old_engine = str(engine)\n",
    "    states = [board.copy()]\n",
    "    transitions = {k: [] for k in board.keys()}\n",
    "    promotions = 0\n",
    "    for turn, san in enumerate(moves):\n",
    "        mv = engine.push_san(san)\n",
    "        move = str(mv)\n",
    "        \n",
    "        new_engine = str(engine)\n",
    "        positions, diffs = get_differences(old_engine, new_engine)\n",
    "        pieces = [get_piece(chessboard, pos) for pos in positions]\n",
    "        for i, (prev, new) in enumerate(diffs):\n",
    "            if new == '.': # the current piece left this place\n",
    "                for j, (p, n) in enumerate(diffs):\n",
    "                    if prev == n:\n",
    "                        if pieces[i] in board:\n",
    "                            transitions[pieces[i]].append([turn, [chessboard[pieces[i]], positions[j]]])\n",
    "                        chessboard[pieces[i]] = positions[j]\n",
    "                        break\n",
    "                else:\n",
    "                    if pieces[i] in board:\n",
    "                        if mv.promotion is not None:\n",
    "                            transitions[pieces[i]].append(\n",
    "                                [turn, [chessboard[pieces[i]], re.findall('[a-h][1-8]', move[2:])[0]]]\n",
    "                            )\n",
    "                        else:\n",
    "                            transitions[pieces[i]].append([turn, [chessboard[pieces[i]]]])\n",
    "                    del chessboard[pieces[i]]\n",
    "            elif prev == '.' or move[-1] == new.lower(): # the current piece arrived here, might be promotion\n",
    "                for j, (p, n) in enumerate(diffs):\n",
    "                    if new == p:\n",
    "                        break\n",
    "                else:\n",
    "                    promotions += 1\n",
    "                    name = f'w{new.lower()}-{promotions}' if new.isupper() else f'b{new}-{promotions}'\n",
    "                    piece = get_piece(chessboard, positions[i])\n",
    "                    if piece is not None:\n",
    "                        if piece in board:\n",
    "                            transitions[piece].append([turn, [chessboard[piece]]])\n",
    "                        del chessboard[piece]\n",
    "                    chessboard[name] = positions[i]\n",
    "            else: # the current piece was captured\n",
    "                if pieces[i] in board:\n",
    "                    transitions[pieces[i]].append([turn, [chessboard[pieces[i]]]])\n",
    "                del chessboard[pieces[i]]\n",
    "\n",
    "        for k1, v1 in chessboard.items():\n",
    "            for k2, v2 in chessboard.items():\n",
    "                if k1 != k2 and v1 == v2:\n",
    "                    print(\"Two pieces on the same position\", v1, \":\", k1, \"and\", k2)\n",
    "                    print(positions, diffs, pieces, sep='\\n')\n",
    "                    print(stringify(chessboard))\n",
    "                    print('------')\n",
    "                    print(chessboard)\n",
    "                    break\n",
    "            \n",
    "        if stringify(chessboard) != str(new_engine):\n",
    "            print(turn, \"Error at\", move, san)\n",
    "            print(moves)\n",
    "            print(positions, diffs, pieces, sep='\\n')\n",
    "            print(\"Expected:\")\n",
    "            print(new_engine)\n",
    "            print('------')\n",
    "            print(\"Found:\")\n",
    "            print(stringify(chessboard))\n",
    "            print('------')\n",
    "            print(chessboard)\n",
    "            return\n",
    "            \n",
    "        old_engine = new_engine\n",
    "        states.append(chessboard.copy())\n",
    "    return states, transitions"
   ]
  },
  {
   "cell_type": "code",
   "execution_count": 5,
   "metadata": {},
   "outputs": [],
   "source": [
    "games = pd.read_csv('games.csv')"
   ]
  },
  {
   "cell_type": "markdown",
   "metadata": {},
   "source": [
    "## Extracting the \"flows\" and the final position heatmaps"
   ]
  },
  {
   "cell_type": "code",
   "execution_count": 6,
   "metadata": {},
   "outputs": [
    {
     "name": "stderr",
     "output_type": "stream",
     "text": [
      "100%|██████████| 20058/20058 [04:00<00:00, 83.27it/s] \n"
     ]
    }
   ],
   "source": [
    "flows = {k: [] for k in board.keys()}\n",
    "endpos = {k: {} for k in board.keys()}\n",
    "for _, row in tqdm(games.iterrows(), total=len(games)):\n",
    "    states, transitions = extract_states_transitions(row.moves.split(\" \"))\n",
    "    elo = int(0.5 * row.white_rating + 0.5 * row.black_rating)\n",
    "    for piece in board.keys():\n",
    "        flows[piece].append({'ELO': elo, 'positions': transitions[piece]})\n",
    "        if piece in states[-1]:\n",
    "            endpos[piece] = {'ELO': elo, 'win': row.winner, 'pos': states[-1][piece]}"
   ]
  },
  {
   "cell_type": "code",
   "execution_count": 7,
   "metadata": {},
   "outputs": [],
   "source": [
    "for piece in flows.keys():\n",
    "    with open(f'data/flows/{piece}.json', 'w') as f:\n",
    "        json.dump(flows[piece], f)"
   ]
  },
  {
   "cell_type": "code",
   "execution_count": 9,
   "metadata": {},
   "outputs": [],
   "source": [
    "for piece in endpos.keys():\n",
    "    with open(f'data/endposition/{piece}.json', 'w') as f:\n",
    "        json.dump(endpos[piece], f)"
   ]
  },
  {
   "cell_type": "markdown",
   "metadata": {},
   "source": [
    "## Extracting the openings"
   ]
  },
  {
   "cell_type": "code",
   "execution_count": 8,
   "metadata": {},
   "outputs": [],
   "source": [
    "def remove_variation(x):\n",
    "    return re.split(\"(:|\\|| #)\", x)[0]"
   ]
  },
  {
   "cell_type": "code",
   "execution_count": 9,
   "metadata": {},
   "outputs": [],
   "source": [
    "games['opening'] = games.opening_name.apply(lambda x: remove_variation(x))\n",
    "games['elo'] = (0.5*games.white_rating + 0.5*games.black_rating).apply(lambda x: [int(x)])\n",
    "games['winner_white'] = games.winner.apply(lambda x: 1 if x == 'white' else 0)\n",
    "games['winner_black'] = games.winner.apply(lambda x: 1 if x == 'black' else 0)\n",
    "games['draw'] = games.winner.apply(lambda x: 1 if x == 'draw' else 0)\n",
    "games['opening_moves'] = games.apply(lambda x: x.moves.split(' ')[0: x.opening_ply], axis = 1)\n",
    "games['nb_games'] = 1"
   ]
  },
  {
   "cell_type": "code",
   "execution_count": 10,
   "metadata": {},
   "outputs": [],
   "source": [
    "openings = games.groupby('opening').agg({\n",
    "    'elo': 'sum',\n",
    "    'winner_white' : 'sum',\n",
    "    'winner_black' : 'sum',\n",
    "    'draw' : 'sum', \n",
    "    'opening_moves': 'min',\n",
    "    'nb_games': 'sum'\n",
    "})"
   ]
  },
  {
   "cell_type": "code",
   "execution_count": 11,
   "metadata": {},
   "outputs": [],
   "source": [
    "for col in ['winner_white', 'winner_black', 'draw']:\n",
    "    openings[col] = openings.apply(lambda row: round(100 * row[col] / row.nb_games, 2), axis=1)"
   ]
  },
  {
   "cell_type": "code",
   "execution_count": 12,
   "metadata": {},
   "outputs": [],
   "source": [
    "openings['states'] = openings.opening_moves.apply(lambda x: extract_states_transitions(x)[0])\n",
    "openings.drop(columns='opening_moves', inplace=True)"
   ]
  },
  {
   "cell_type": "code",
   "execution_count": 13,
   "metadata": {},
   "outputs": [],
   "source": [
    "openings.to_json('data/openings.json', orient='index', indent=1)"
   ]
  },
  {
   "cell_type": "markdown",
   "metadata": {},
   "source": [
    "## Extracting ELO information (histogram, min-max)"
   ]
  },
  {
   "cell_type": "code",
   "execution_count": 14,
   "metadata": {},
   "outputs": [
    {
     "data": {
      "text/plain": [
       "count    20058.000000\n",
       "mean      1592.482551\n",
       "std        263.173841\n",
       "min        816.000000\n",
       "25%       1406.000000\n",
       "50%       1568.500000\n",
       "75%       1771.000000\n",
       "max       2475.000000\n",
       "Name: elo, dtype: float64"
      ]
     },
     "execution_count": 14,
     "metadata": {},
     "output_type": "execute_result"
    }
   ],
   "source": [
    "games.elo.apply(lambda x: x[0]).describe()"
   ]
  },
  {
   "cell_type": "code",
   "execution_count": 15,
   "metadata": {},
   "outputs": [],
   "source": [
    "ys, xs = np.histogram(games.elo.apply(lambda x: x[0]), bins=50)"
   ]
  },
  {
   "cell_type": "code",
   "execution_count": 16,
   "metadata": {},
   "outputs": [],
   "source": [
    "with open('data/elo.json', 'w') as f:\n",
    "    json.dump([{'x': x, 'y': int(y)} for (x, y) in zip(np.round(xs, 2), ys)], f)"
   ]
  },
  {
   "cell_type": "code",
   "execution_count": null,
   "metadata": {},
   "outputs": [],
   "source": []
  }
 ],
 "metadata": {
  "kernelspec": {
   "display_name": "Python 3",
   "language": "python",
   "name": "python3"
  },
  "language_info": {
   "codemirror_mode": {
    "name": "ipython",
    "version": 3
   },
   "file_extension": ".py",
   "mimetype": "text/x-python",
   "name": "python",
   "nbconvert_exporter": "python",
   "pygments_lexer": "ipython3",
   "version": "3.8.5"
  },
  "toc": {
   "base_numbering": 1,
   "nav_menu": {},
   "number_sections": true,
   "sideBar": true,
   "skip_h1_title": false,
   "title_cell": "Table of Contents",
   "title_sidebar": "Contents",
   "toc_cell": false,
   "toc_position": {
    "height": "calc(100% - 180px)",
    "left": "10px",
    "top": "150px",
    "width": "165px"
   },
   "toc_section_display": true,
   "toc_window_display": true
  }
 },
 "nbformat": 4,
 "nbformat_minor": 4
}
